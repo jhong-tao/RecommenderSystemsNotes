{
 "cells": [
  {
   "cell_type": "code",
   "execution_count": 1,
   "metadata": {},
   "outputs": [],
   "source": [
    "import copy\n",
    "import math\n",
    "import os\n",
    "import random\n",
    "# paddle.device.set_device('gpu:0')\n",
    "import warnings\n",
    "from collections import defaultdict\n",
    "\n",
    "import faiss\n",
    "import numpy as np\n",
    "import paddle\n",
    "import paddle.nn.functional as F\n",
    "import pandas as pd\n",
    "from matplotlib import pyplot as plt\n",
    "from paddle import nn\n",
    "from paddle.io import DataLoader, Dataset\n",
    "from sklearn.manifold import TSNE\n",
    "from sklearn.metrics import log_loss, roc_auc_score\n",
    "from sklearn.preprocessing import normalize\n",
    "from tqdm import tqdm\n",
    "\n",
    "warnings.filterwarnings(\"ignore\")\n",
    "from IPython.core.interactiveshell import InteractiveShell\n",
    "\n",
    "InteractiveShell.ast_node_interactivity = 'all'"
   ]
  }
 ],
 "metadata": {
  "kernelspec": {
   "display_name": "Python 3.10.8 ('paddle')",
   "language": "python",
   "name": "python3"
  },
  "language_info": {
   "codemirror_mode": {
    "name": "ipython",
    "version": 3
   },
   "file_extension": ".py",
   "mimetype": "text/x-python",
   "name": "python",
   "nbconvert_exporter": "python",
   "pygments_lexer": "ipython3",
   "version": "3.10.8"
  },
  "orig_nbformat": 4,
  "vscode": {
   "interpreter": {
    "hash": "fe7d3f7d1226b8bbf96157d896389e1752df8ed36a3471dc7e5d96b82f363992"
   }
  }
 },
 "nbformat": 4,
 "nbformat_minor": 2
}
